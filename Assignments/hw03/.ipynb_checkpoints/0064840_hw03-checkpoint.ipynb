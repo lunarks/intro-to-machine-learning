{
 "cells": [
  {
   "cell_type": "code",
   "execution_count": 1,
   "metadata": {},
   "outputs": [],
   "source": [
    "# Imports\n",
    "import math\n",
    "import matplotlib.pyplot as plt\n",
    "import numpy as np\n",
    "import pandas as pd"
   ]
  },
  {
   "cell_type": "code",
   "execution_count": 2,
   "metadata": {},
   "outputs": [],
   "source": [
    "# Read data, from files and converted into numpy arrays\n",
    "letter_images = pd.read_csv(\"hw03_data_set_images.csv\", header = None).to_numpy()\n",
    "class_labels = pd.read_csv(\"hw03_data_set_labels.csv\", header = None).to_numpy()\n",
    "\n",
    "#print(letter_images)\n",
    "#print(class_labels)\n",
    "\n",
    "class_labels_numbers = np.array([(ord(class_labels[i][0]) - 64) for i in range(len(class_labels))])\n",
    "\n",
    "#print(class_labels_numbers)"
   ]
  },
  {
   "cell_type": "code",
   "execution_count": 3,
   "metadata": {},
   "outputs": [],
   "source": [
    "# Using the same custom functions from hw02\n",
    "# First 25 rows -> training_set next 14 rows -> test_set\n",
    "def divide_images_into_sets(data_set):\n",
    "    training_set_A, training_set_B, training_set_C, training_set_D, training_set_E = [], [], [], [], []\n",
    "    test_set_A, test_set_B, test_set_C, test_set_D, test_set_E = [], [], [], [], []\n",
    "    for i in range(5):\n",
    "        for j in range(39):\n",
    "            if j < 25:\n",
    "                if i == 0:\n",
    "                    training_set_A.append(data_set[j])\n",
    "                elif i == 1:\n",
    "                    training_set_B.append(data_set[j + 39])\n",
    "                elif i == 2:\n",
    "                    training_set_C.append(data_set[j + 78])\n",
    "                elif i == 3:\n",
    "                    training_set_D.append(data_set[j + 117])\n",
    "                else:\n",
    "                    training_set_E.append(data_set[j + 156])\n",
    "            else:\n",
    "                if i == 0:\n",
    "                    test_set_A.append(data_set[j])\n",
    "                elif i == 1:\n",
    "                    test_set_B.append(data_set[j + 39])\n",
    "                elif i == 2:\n",
    "                    test_set_C.append(data_set[j + 78])\n",
    "                elif i == 3:\n",
    "                    test_set_D.append(data_set[j + 117])\n",
    "                else:\n",
    "                    test_set_E.append(data_set[j + 156])\n",
    "    \n",
    "    training_set = np.array([training_set_A, training_set_B, training_set_C, training_set_D, training_set_E])\n",
    "    test_set = np.array([test_set_A, test_set_B, test_set_C, test_set_D, test_set_E])\n",
    "    return training_set, test_set"
   ]
  },
  {
   "cell_type": "code",
   "execution_count": 4,
   "metadata": {},
   "outputs": [],
   "source": [
    "def divide_labels_into_sets(labels_set):\n",
    "    training_labels_set = []\n",
    "    test_labels_set = []\n",
    "    for i in range(5):\n",
    "        for j in range(39):\n",
    "            if j < 25:\n",
    "                if i == 0:\n",
    "                    training_labels_set.append(labels_set[j])\n",
    "                elif i == 1:\n",
    "                    training_labels_set.append(labels_set[j + 39])\n",
    "                elif i == 2:\n",
    "                    training_labels_set.append(labels_set[j + 78])\n",
    "                elif i == 3:\n",
    "                    training_labels_set.append(labels_set[j + 117])\n",
    "                else:\n",
    "                    training_labels_set.append(labels_set[j + 156])\n",
    "            else:\n",
    "                if i == 0:\n",
    "                    test_labels_set.append(labels_set[j])\n",
    "                elif i == 1:\n",
    "                    test_labels_set.append(labels_set[j + 39])\n",
    "                elif i == 2:\n",
    "                    test_labels_set.append(labels_set[j + 78])\n",
    "                elif i == 3:\n",
    "                    test_labels_set.append(labels_set[j + 117])\n",
    "                else:\n",
    "                    test_labels_set.append(labels_set[j + 156])\n",
    "    \n",
    "    return training_labels_set, test_labels_set"
   ]
  },
  {
   "cell_type": "code",
   "execution_count": 5,
   "metadata": {},
   "outputs": [],
   "source": [
    "# Dividing the training and the test set\n",
    "training_set, test_set = divide_images_into_sets(letter_images)\n",
    "\n",
    "# print(training_set)\n",
    "# print(test_set)\n",
    "\n",
    "\n",
    "\n",
    "# Reshaping the training and the test set\n",
    "training_set = training_set.reshape(125, 320)\n",
    "test_set = test_set.reshape(70, 320)\n",
    "\n",
    "#print(training_set)\n",
    "#print(test_set)\n",
    "\n",
    "\n",
    "\n",
    "# Dividing the labels\n",
    "training_labels_set, test_labels_set = divide_labels_into_sets(class_labels_numbers)\n",
    "training_labels_set = np.array(training_labels_set)\n",
    "test_labels_set = np.array(test_labels_set)\n",
    "\n",
    "#print(training_labels_set)\n",
    "#print(test_labels_set)"
   ]
  },
  {
   "cell_type": "code",
   "execution_count": 6,
   "metadata": {},
   "outputs": [],
   "source": [
    "# K and N\n",
    "K = max(class_labels_numbers)\n",
    "N_train = len(training_labels_set)\n",
    "N_test = len(test_labels_set)"
   ]
  },
  {
   "cell_type": "code",
   "execution_count": 7,
   "metadata": {},
   "outputs": [],
   "source": [
    "# Calculate sample means\n",
    "sample_means = np.array([np.mean(training_set[training_labels_set == (c + 1)], axis = 0) for c in range(K)])\n",
    "#print(sample_means)"
   ]
  },
  {
   "cell_type": "code",
   "execution_count": 8,
   "metadata": {},
   "outputs": [],
   "source": [
    "# calculate sample deviations\n",
    "sample_deviations = [np.sqrt(np.mean((training_set[training_labels_set == (c + 1)] - sample_means[c])**2)) for c in range(K)]\n",
    "#print(sample_deviations)"
   ]
  },
  {
   "cell_type": "code",
   "execution_count": 9,
   "metadata": {},
   "outputs": [],
   "source": [
    "# Calculate prior probabilities\n",
    "class_priors = [np.mean(training_labels_set == (c + 1)) for c in range(K)]\n",
    "#print(class_priors)"
   ]
  },
  {
   "cell_type": "code",
   "execution_count": 10,
   "metadata": {},
   "outputs": [
    {
     "data": {
      "image/png": "[encoded data removed]",
      "text/plain": [
       "<Figure size 360x72 with 5 Axes>"
      ]
     },
     "metadata": {
      "needs_background": "light"
     },
     "output_type": "display_data"
    }
   ],
   "source": [
    "# Plotting\n",
    "fig = plt.figure(figsize=(K, sample_means.shape[0] / K))\n",
    "for i in range(int(sample_means.shape[0] / K * K)):\n",
    "    fig.add_subplot(sample_means.shape[0] / K, K, i + 1)\n",
    "    plt.imshow(sample_means[i].reshape((16, 20)).T, cmap='Greys')\n",
    "    plt.axis('off')\n",
    "plt.show()"
   ]
  },
  {
   "cell_type": "code",
   "execution_count": 99,
   "metadata": {},
   "outputs": [],
   "source": [
    "# Evaluate score functions\n",
    "score_values_train = np.stack([- 0.5 * np.log(2 * math.pi * sample_deviations[c]**2)\n",
    "                               - 0.5 * np.sum(((training_set - sample_means[c]) / sample_deviations[c]) ** 2, axis = 1)\n",
    "                               + np.log(class_priors[c])\n",
    "                               for c in range(K)])\n",
    "#print(score_values_train)\n",
    "\n",
    "\n",
    "score_values_test = np.stack([- 0.5 * np.log(2 * math.pi * sample_deviations[c]**2)\n",
    "                              - 0.5 * np.sum(((test_set - sample_means[c]) / sample_deviations[c]) ** 2, axis = 1)\n",
    "                              + np.log(class_priors[c])\n",
    "                              for c in range(K)])\n",
    "#print(score_values_test)"
   ]
  },
  {
   "cell_type": "code",
   "execution_count": 100,
   "metadata": {},
   "outputs": [
    {
     "name": "stdout",
     "output_type": "stream",
     "text": [
      "y_train       1   2   3   4   5\n",
      "y_predicted                    \n",
      "1            25   0   0   0   0\n",
      "2             0  24   2   1   1\n",
      "3             0   0  20   0   0\n",
      "4             0   1   2  24   0\n",
      "5             0   0   1   0  24\n"
     ]
    }
   ],
   "source": [
    "# Calculate confusion matrix for training data\n",
    "y_predicted_train = np.argmax(score_values_train, axis = 0) + 1\n",
    "confusion_matrix = pd.crosstab(y_predicted_train, training_labels_set, rownames = ['y_predicted'], colnames = ['y_train'])\n",
    "print(confusion_matrix)"
   ]
  },
  {
   "cell_type": "code",
   "execution_count": 101,
   "metadata": {},
   "outputs": [
    {
     "name": "stdout",
     "output_type": "stream",
     "text": [
      "y_test        1   2  3   4   5\n",
      "y_predicted                   \n",
      "1            13   1  0   0   0\n",
      "2             1  13  3   1   1\n",
      "3             0   0  7   0   0\n",
      "4             0   0  1  13   1\n",
      "5             0   0  3   0  12\n"
     ]
    }
   ],
   "source": [
    "# Calculate confusion matrix for test data\n",
    "y_predicted_test = np.argmax(score_values_test, axis = 0) + 1\n",
    "confusion_matrix_test = pd.crosstab(y_predicted_test, test_labels_set, rownames = ['y_predicted'], colnames = ['y_test'])\n",
    "print(confusion_matrix_test)"
   ]
  },
  {
   "cell_type": "code",
   "execution_count": null,
   "metadata": {},
   "outputs": [],
   "source": []
  }
 ],
 "metadata": {
  "kernelspec": {
   "display_name": "Python 3",
   "language": "python",
   "name": "python3"
  },
  "language_info": {
   "codemirror_mode": {
    "name": "ipython",
    "version": 3
   },
   "file_extension": ".py",
   "mimetype": "text/x-python",
   "name": "python",
   "nbconvert_exporter": "python",
   "pygments_lexer": "ipython3",
   "version": "3.8.3"
  }
 },
 "nbformat": 4,
 "nbformat_minor": 4
}

{
 "cells": [
  {
   "cell_type": "code",
   "execution_count": 1,
   "metadata": {},
   "outputs": [],
   "source": [
    "import numpy as np\n",
    "import pandas as pd\n",
    "import matplotlib.pyplot as plt"
   ]
  },
  {
   "cell_type": "code",
   "execution_count": 2,
   "metadata": {},
   "outputs": [],
   "source": [
    "data_set = pd.read_csv(\"hw05_data_set.csv\").to_numpy()\n",
    "# print(data_set)"
   ]
  },
  {
   "cell_type": "code",
   "execution_count": 3,
   "metadata": {},
   "outputs": [],
   "source": [
    "# Custom function that puts the first 100 data points into the training_set and the rest 33 to the test_set\n",
    "def divide_data_set(data_set):\n",
    "    training_set = []\n",
    "    test_set = []\n",
    "    for i in range(133):\n",
    "        if i < 100:\n",
    "            training_set.append(data_set[i])\n",
    "        else:\n",
    "            test_set.append(data_set[i])\n",
    "    return training_set, test_set"
   ]
  },
  {
   "cell_type": "code",
   "execution_count": 4,
   "metadata": {
    "scrolled": true
   },
   "outputs": [],
   "source": [
    "training_set, test_set = divide_data_set(data_set)\n",
    "training_set = np.array(training_set)\n",
    "test_set = np.array(test_set)\n",
    "\n",
    "# print(\"Training Set:\\n\" + str(training_set) + \"\\n\")\n",
    "# print(\"Test Set:\\n\" + str(test_set))"
   ]
  },
  {
   "cell_type": "code",
   "execution_count": 5,
   "metadata": {},
   "outputs": [],
   "source": [
    "# Training Set, x-y's\n",
    "x_train = training_set[:, 0]\n",
    "y_train = training_set[:, 1]\n",
    "\n",
    "# print(\"x_train:\\n\" + str(x_train) + \"\\n\")\n",
    "# print(\"y_train:\\n\" + str(y_train))"
   ]
  },
  {
   "cell_type": "code",
   "execution_count": 6,
   "metadata": {},
   "outputs": [],
   "source": [
    "# Test Set, x-y's\n",
    "x_test = test_set[:, 0]\n",
    "y_test = test_set[:, 1]\n",
    "\n",
    "# print(\"x_test:\\n\" + str(x_test) + \"\\n\")\n",
    "# print(\"y_test:\\n\" + str(y_test))"
   ]
  },
  {
   "cell_type": "code",
   "execution_count": 7,
   "metadata": {},
   "outputs": [],
   "source": [
    "# K, Ns and D (number of features)\n",
    "N_train = len(y_train)\n",
    "N_test = len(y_test)\n",
    "\n",
    "# print(\"N_train:\\n\" + str(N_train) + \"\\n\")\n",
    "# print(\"N_test:\\n\" + str(N_test))"
   ]
  },
  {
   "cell_type": "code",
   "execution_count": 8,
   "metadata": {},
   "outputs": [],
   "source": [
    "# P: pre_pruning_parameter\n",
    "def decision_tree(P):\n",
    "    \n",
    "    # Create necessary data structures\n",
    "    node_indices = {}\n",
    "    is_terminal = {}\n",
    "    need_split = {}\n",
    "\n",
    "    node_features = {}\n",
    "    node_splits = {}\n",
    "    node_frequencies = {}\n",
    "\n",
    "    # Put all training instances into the root node\n",
    "    node_indices[1] = np.array(range(N_train))\n",
    "    is_terminal[1] = False\n",
    "    need_split[1] = True\n",
    "    \n",
    "    # Learning algorithm\n",
    "    while True:\n",
    "        # Find nodes that need splitting\n",
    "        split_nodes = [key for key, value in need_split.items() if value == True]\n",
    "        # Check whether we reach all terminal nodes\n",
    "        if len(split_nodes) == 0:\n",
    "            break\n",
    "        # Find best split positions for all nodes\n",
    "        for split_node in split_nodes:\n",
    "            data_indices = node_indices[split_node]\n",
    "            need_split[split_node] = False\n",
    "            mean = np.mean(y_train[data_indices])\n",
    "\n",
    "            if len(x_train[data_indices]) <= P:\n",
    "                is_terminal[split_node] = True\n",
    "                node_frequencies[split_node] = mean\n",
    "            else:\n",
    "                is_terminal[split_node] = False\n",
    "\n",
    "                unique_values = np.sort(np.unique(x_train[data_indices]))\n",
    "                split_positions = (unique_values[1:len(unique_values)] + unique_values[0:(len(unique_values) - 1)]) / 2\n",
    "                split_scores = np.repeat(0.0, len(split_positions))\n",
    "\n",
    "                for s in range(len(split_positions)):\n",
    "                    left_indices = data_indices[x_train[data_indices] < split_positions[s]]\n",
    "                    right_indices = data_indices[x_train[data_indices] >= split_positions[s]]\n",
    "                    left_length = len(left_indices)\n",
    "                    right_length = len(right_indices)\n",
    "\n",
    "                    error = 0\n",
    "                    if left_length > 0:\n",
    "                        error = error + np.sum((y_train[left_indices] - np.mean(y_train[left_indices])) ** 2)\n",
    "                    if right_length > 0:\n",
    "                        error = error + np.sum((y_train[right_indices] - np.mean(y_train[right_indices])) ** 2)\n",
    "\n",
    "                    split_scores[s] = error / (left_length + right_length)\n",
    "\n",
    "\n",
    "                # Decide where to split\n",
    "                split = np.argmin(split_scores)\n",
    "                node_splits[split_node] = split_positions[split]\n",
    "\n",
    "                # Create left node using the selected split\n",
    "                left_indices = data_indices[x_train[data_indices] < split_positions[split]]\n",
    "                node_indices[2 * split_node] = left_indices\n",
    "                is_terminal[2 * split_node] = False\n",
    "                need_split[2 * split_node] = True\n",
    "\n",
    "                # Create right node using the selected split\n",
    "                right_indices = data_indices[x_train[data_indices] >= split_positions[split]]\n",
    "                node_indices[2 * split_node + 1] = right_indices\n",
    "                is_terminal[2 * split_node + 1] = False\n",
    "                need_split[2 * split_node + 1] = True\n",
    "    \n",
    "    return node_frequencies, node_splits, is_terminal"
   ]
  },
  {
   "cell_type": "code",
   "execution_count": 9,
   "metadata": {},
   "outputs": [],
   "source": [
    "minimum_value = 0\n",
    "maximum_value = 60\n",
    "data_interval = np.linspace(minimum_value, maximum_value, 6000)"
   ]
  },
  {
   "cell_type": "code",
   "execution_count": 10,
   "metadata": {},
   "outputs": [],
   "source": [
    "#\n",
    "node_frequencies, node_splits, is_terminal = decision_tree(15)\n",
    "\n",
    "# Traverse tree for test data points\n",
    "y_hat = np.repeat(0, 6000)\n",
    "\n",
    "def prediction(x, y, node_f, node_s, is_term):\n",
    "    for i in range(len(x)):\n",
    "        index = 1\n",
    "        while True:\n",
    "            if is_term[index] == True:\n",
    "                y[i] = node_f[index]\n",
    "                break\n",
    "            else:\n",
    "                if x[i] <= node_s[index]:\n",
    "                    index = index * 2\n",
    "                else:\n",
    "                    index = index * 2 + 1\n",
    "    return y"
   ]
  },
  {
   "cell_type": "code",
   "execution_count": 11,
   "metadata": {
    "scrolled": false
   },
   "outputs": [
    {
     "data": {
      "image/png": "[encoded data removed]",
      "text/plain": [
       "<Figure size 720x432 with 1 Axes>"
      ]
     },
     "metadata": {
      "needs_background": "light"
     },
     "output_type": "display_data"
    }
   ],
   "source": [
    "#\n",
    "left_borders = np.arange(minimum_value, maximum_value, 0.01)\n",
    "right_borders = np.arange(minimum_value + 0.01, maximum_value + 0.01, 0.01)\n",
    "y_hat2 = prediction(data_interval, y_hat, node_frequencies, node_splits, is_terminal)\n",
    "# print(np.array(y_hat).shape)\n",
    "\n",
    "plt.figure(figsize = (10, 6))\n",
    "plt.plot(x_train, y_train, \"b.\", markersize = 10, label = \"training\")\n",
    "plt.plot(x_test, y_test, \"r.\", markersize = 10, label = \"test\")\n",
    "plt.legend(loc = \"upper left\")\n",
    "for b in range(len(left_borders)):\n",
    "    plt.plot([left_borders[b], right_borders[b]], [y_hat2[b], y_hat2[b]], \"k-\")\n",
    "for b in range(len(left_borders) - 1):\n",
    "    plt.plot([right_borders[b], right_borders[b]], [y_hat2[b], y_hat2[b + 1]], \"k-\")\n",
    "plt.xlabel(\"x\")\n",
    "plt.ylabel(\"y\")\n",
    "plt.title(\"P = 15\")\n",
    "plt.show()"
   ]
  },
  {
   "cell_type": "code",
   "execution_count": 12,
   "metadata": {},
   "outputs": [],
   "source": [
    "y_pred = np.repeat(0, 33)\n",
    "y_pred = prediction(x_test, y_pred, node_frequencies, node_splits, is_terminal)"
   ]
  },
  {
   "cell_type": "code",
   "execution_count": 13,
   "metadata": {},
   "outputs": [],
   "source": [
    "# RMSE Function\n",
    "def rmse(N_test, y_test, y_hat):\n",
    "    return np.sqrt(np.sum((y_test - y_hat) ** 2) / N_test)"
   ]
  },
  {
   "cell_type": "code",
   "execution_count": 14,
   "metadata": {},
   "outputs": [
    {
     "name": "stdout",
     "output_type": "stream",
     "text": [
      "RMSE is 26.847504257351087 when P is 15\n"
     ]
    }
   ],
   "source": [
    "print(\"RMSE is \" + str(rmse(N_test, y_test, y_pred)) + \" when P is 15\")"
   ]
  },
  {
   "cell_type": "code",
   "execution_count": 15,
   "metadata": {},
   "outputs": [
    {
     "data": {
      "image/png": "[encoded data removed]",
      "text/plain": [
       "<Figure size 720x432 with 1 Axes>"
      ]
     },
     "metadata": {
      "needs_background": "light"
     },
     "output_type": "display_data"
    }
   ],
   "source": [
    "P = 5\n",
    "P_list = []\n",
    "RMSE_list = []\n",
    "while P < 55:\n",
    "    node_frequencies2, node_splits2, is_terminal2 = decision_tree(P)\n",
    "    y_pred2 = np.repeat(0, 33)\n",
    "    y_pred2 = prediction(x_test, y_pred2, node_frequencies2, node_splits2, is_terminal2)\n",
    "    P_list.append(P)\n",
    "    RMSE_list.append(rmse(N_test, y_test, y_pred2))\n",
    "    P += 5\n",
    "plt.figure(figsize = (10, 6))\n",
    "plt.plot(P_list, RMSE_list, \"bo-\")\n",
    "plt.xlabel(\"Pre-pruning size (P)\")\n",
    "plt.ylabel(\"RMSE\")\n",
    "plt.show()"
   ]
  },
  {
   "cell_type": "code",
   "execution_count": null,
   "metadata": {},
   "outputs": [],
   "source": []
  }
 ],
 "metadata": {
  "kernelspec": {
   "display_name": "Python 3",
   "language": "python",
   "name": "python3"
  },
  "language_info": {
   "codemirror_mode": {
    "name": "ipython",
    "version": 3
   },
   "file_extension": ".py",
   "mimetype": "text/x-python",
   "name": "python",
   "nbconvert_exporter": "python",
   "pygments_lexer": "ipython3",
   "version": "3.8.3"
  }
 },
 "nbformat": 4,
 "nbformat_minor": 4
}

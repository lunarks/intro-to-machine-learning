{
 "cells": [
  {
   "cell_type": "code",
   "execution_count": 1,
   "metadata": {},
   "outputs": [],
   "source": [
    "# Imports\n",
    "import numpy as np\n",
    "import matplotlib.pyplot as plt\n",
    "import pandas as pd\n",
    "\n",
    "# Used in gradient descent\n",
    "def safelog(x):\n",
    "    return(np.log(x + 1e-100))"
   ]
  },
  {
   "cell_type": "code",
   "execution_count": 2,
   "metadata": {},
   "outputs": [
    {
     "name": "stdout",
     "output_type": "stream",
     "text": [
      "[[0 0 0 ... 0 0 0]\n",
      " [0 0 0 ... 1 1 1]\n",
      " [0 0 0 ... 1 1 1]\n",
      " ...\n",
      " [0 0 0 ... 0 0 0]\n",
      " [0 0 0 ... 1 0 0]\n",
      " [0 0 0 ... 0 0 0]]\n"
     ]
    },
    {
     "data": {
      "text/plain": [
       "(195,)"
      ]
     },
     "execution_count": 2,
     "metadata": {},
     "output_type": "execute_result"
    }
   ],
   "source": [
    "# Read data, from files and converted into numpy arrays\n",
    "letter_images = pd.read_csv(\"hw02_data_set_images.csv\", header = None).to_numpy()\n",
    "class_labels = pd.read_csv(\"hw02_data_set_labels.csv\", header = None).to_numpy()\n",
    "\n",
    "print(letter_images)\n",
    "\n",
    "class_labels_numbers = np.array([(ord(class_labels[i][0]) - 64) for i in range(len(class_labels))])\n",
    "class_labels_numbers.shape"
   ]
  },
  {
   "cell_type": "code",
   "execution_count": 3,
   "metadata": {},
   "outputs": [],
   "source": [
    "# First 25 rows -> training_set next 14 rows -> test_set\n",
    "def divide_images_into_sets(data_set):\n",
    "    training_set_A, training_set_B, training_set_C, training_set_D, training_set_E = [], [], [], [], []\n",
    "    test_set_A, test_set_B, test_set_C, test_set_D, test_set_E = [], [], [], [], []\n",
    "    for i in range(5):\n",
    "        for j in range(39):\n",
    "            if j < 25:\n",
    "                if i == 0:\n",
    "                    training_set_A.append(data_set[j])\n",
    "                elif i == 1:\n",
    "                    training_set_B.append(data_set[j + 39])\n",
    "                elif i == 2:\n",
    "                    training_set_C.append(data_set[j + 78])\n",
    "                elif i == 3:\n",
    "                    training_set_D.append(data_set[j + 117])\n",
    "                else:\n",
    "                    training_set_E.append(data_set[j + 156])\n",
    "            else:\n",
    "                if i == 0:\n",
    "                    test_set_A.append(data_set[j])\n",
    "                elif i == 1:\n",
    "                    test_set_B.append(data_set[j + 39])\n",
    "                elif i == 2:\n",
    "                    test_set_C.append(data_set[j + 78])\n",
    "                elif i == 3:\n",
    "                    test_set_D.append(data_set[j + 117])\n",
    "                else:\n",
    "                    test_set_E.append(data_set[j + 156])\n",
    "    \n",
    "    training_set = np.array([training_set_A, training_set_B, training_set_C, training_set_D, training_set_E])\n",
    "    test_set = np.array([test_set_A, test_set_B, test_set_C, test_set_D, test_set_E])\n",
    "    return training_set, test_set"
   ]
  },
  {
   "cell_type": "code",
   "execution_count": 4,
   "metadata": {},
   "outputs": [],
   "source": [
    "def divide_labels_into_sets(labels_set):\n",
    "    training_labels_set = []\n",
    "    test_labels_set = []\n",
    "    for i in range(5):\n",
    "        for j in range(39):\n",
    "            if j < 25:\n",
    "                if i == 0:\n",
    "                    training_labels_set.append(labels_set[j])\n",
    "                elif i == 1:\n",
    "                    training_labels_set.append(labels_set[j + 39])\n",
    "                elif i == 2:\n",
    "                    training_labels_set.append(labels_set[j + 78])\n",
    "                elif i == 3:\n",
    "                    training_labels_set.append(labels_set[j + 117])\n",
    "                else:\n",
    "                    training_labels_set.append(labels_set[j + 156])\n",
    "            else:\n",
    "                if i == 0:\n",
    "                    test_labels_set.append(labels_set[j])\n",
    "                elif i == 1:\n",
    "                    test_labels_set.append(labels_set[j + 39])\n",
    "                elif i == 2:\n",
    "                    test_labels_set.append(labels_set[j + 78])\n",
    "                elif i == 3:\n",
    "                    test_labels_set.append(labels_set[j + 117])\n",
    "                else:\n",
    "                    test_labels_set.append(labels_set[j + 156])\n",
    "    \n",
    "    return training_labels_set, test_labels_set"
   ]
  },
  {
   "cell_type": "code",
   "execution_count": 5,
   "metadata": {},
   "outputs": [
    {
     "name": "stdout",
     "output_type": "stream",
     "text": [
      "[[0 0 0 ... 0 0 0]\n",
      " [0 0 0 ... 1 1 1]\n",
      " [0 0 0 ... 1 1 1]\n",
      " ...\n",
      " [0 0 0 ... 0 0 0]\n",
      " [0 1 1 ... 1 1 0]\n",
      " [0 0 0 ... 0 0 0]]\n",
      "[[0 0 0 ... 1 1 1]\n",
      " [0 0 0 ... 1 1 1]\n",
      " [0 0 0 ... 0 0 1]\n",
      " ...\n",
      " [0 0 0 ... 0 0 0]\n",
      " [0 0 0 ... 1 0 0]\n",
      " [0 0 0 ... 0 0 0]]\n",
      "(70,)\n"
     ]
    }
   ],
   "source": [
    "training_set, test_set = divide_images_into_sets(letter_images)\n",
    "training_set = training_set.reshape(125, 320)\n",
    "test_set = test_set.reshape(70, 320)\n",
    "\n",
    "print(training_set)\n",
    "print(test_set)\n",
    "\n",
    "training_labels_set, test_labels_set = divide_labels_into_sets(class_labels_numbers)\n",
    "print(np.array(test_labels_set).shape)"
   ]
  },
  {
   "cell_type": "code",
   "execution_count": 6,
   "metadata": {},
   "outputs": [],
   "source": [
    "# K and N\n",
    "K = max(class_labels_numbers)\n",
    "N_train = len(training_labels_set)\n",
    "N_test = len(test_labels_set)"
   ]
  },
  {
   "cell_type": "code",
   "execution_count": 7,
   "metadata": {},
   "outputs": [],
   "source": [
    "# Define the sigmoid function\n",
    "def sigmoid(X, W, w0):\n",
    "    return(1 / (1 + np.exp(-(np.matmul(X, W) + w0))))"
   ]
  },
  {
   "cell_type": "code",
   "execution_count": 8,
   "metadata": {},
   "outputs": [],
   "source": [
    "# Define the gradient functions\n",
    "def gradient_W(X, Y_truth, Y_predicted):\n",
    "    return(np.asarray([-np.sum(np.repeat((Y_truth[:,c] - Y_predicted[:,c])[:, None], X.shape[1], axis = 1) * X, axis = 0) for c in range(K)]).transpose())\n",
    "\n",
    "def gradient_w0(Y_truth, Y_predicted):\n",
    "    return(-np.sum(Y_truth - Y_predicted, axis = 0))"
   ]
  },
  {
   "cell_type": "code",
   "execution_count": 9,
   "metadata": {},
   "outputs": [],
   "source": [
    "# Learning parameters\n",
    "eta = 0.01\n",
    "epsilon = 1e-3"
   ]
  },
  {
   "cell_type": "code",
   "execution_count": 10,
   "metadata": {},
   "outputs": [],
   "source": [
    "# Randomly initalize w and w0\n",
    "np.random.seed(421)\n",
    "W = np.random.uniform(low = -0.01, high = 0.01, size = (training_set.shape[1], K))\n",
    "w0 = np.random.uniform(low = -0.01, high = 0.01, size = (1, K))"
   ]
  },
  {
   "cell_type": "code",
   "execution_count": 11,
   "metadata": {},
   "outputs": [],
   "source": [
    "# One-of-K encoding\n",
    "Y_truth = np.zeros((N_train, K)).astype(int)\n",
    "Y_truth[range(N_train), np.array(training_labels_set) - 1] = 1"
   ]
  },
  {
   "cell_type": "code",
   "execution_count": 12,
   "metadata": {},
   "outputs": [],
   "source": [
    "# Learn W and w0 using gradient descent\n",
    "iteration = 1\n",
    "objective_values = []\n",
    "while 1:\n",
    "    Y_predicted = sigmoid(training_set, W, w0)\n",
    "\n",
    "    objective_values = np.append(objective_values, -np.sum(Y_truth * safelog(Y_predicted)))\n",
    "\n",
    "    W_old = W\n",
    "    w0_old = w0\n",
    "\n",
    "    W = W - eta * gradient_W(training_set, Y_truth, Y_predicted)\n",
    "    w0 = w0 - eta * gradient_w0(Y_truth, Y_predicted)\n",
    "\n",
    "    if np.sqrt(np.sum((w0 - w0_old))**2 + np.sum((W - W_old)**2)) < epsilon:\n",
    "        break\n",
    "\n",
    "    iteration = iteration + 1"
   ]
  },
  {
   "cell_type": "code",
   "execution_count": 13,
   "metadata": {},
   "outputs": [
    {
     "data": {
      "image/png": "[encoded data removed]",
      "text/plain": [
       "<Figure size 720x432 with 1 Axes>"
      ]
     },
     "metadata": {
      "needs_background": "light"
     },
     "output_type": "display_data"
    }
   ],
   "source": [
    "# Plot objective function during iterations\n",
    "plt.figure(figsize = (10, 6))\n",
    "plt.plot(range(1, iteration + 1), objective_values, \"k-\")\n",
    "plt.xlabel(\"Iteration\")\n",
    "plt.ylabel(\"Error\")\n",
    "plt.show()"
   ]
  },
  {
   "cell_type": "code",
   "execution_count": 14,
   "metadata": {},
   "outputs": [
    {
     "name": "stdout",
     "output_type": "stream",
     "text": [
      "y_truth       1   2   3   4   5\n",
      "y_predicted                    \n",
      "1            25   0   0   0   0\n",
      "2             0  25   0   0   0\n",
      "3             0   0  25   0   0\n",
      "4             0   0   0  25   0\n",
      "5             0   0   0   0  25\n"
     ]
    }
   ],
   "source": [
    "# Calculate confusion matrix for training data\n",
    "y_predicted = np.argmax(Y_predicted, axis = 1) + 1\n",
    "confusion_matrix = pd.crosstab(y_predicted, np.array(training_labels_set), rownames = ['y_predicted'], colnames = ['y_truth'])\n",
    "print(confusion_matrix)"
   ]
  },
  {
   "cell_type": "code",
   "execution_count": 15,
   "metadata": {},
   "outputs": [
    {
     "name": "stdout",
     "output_type": "stream",
     "text": [
      "y_test        1   2   3   4   5\n",
      "y_predicted                    \n",
      "1            13   1   0   0   0\n",
      "2             1  11   0   0   2\n",
      "3             0   0  14   0   0\n",
      "4             0   1   0  14   0\n",
      "5             0   1   0   0  12\n"
     ]
    }
   ],
   "source": [
    "# Calculate confusion matrix for test data\n",
    "Y_predicted_test = sigmoid(test_set, W, w0)\n",
    "y_predicted_test = np.argmax(Y_predicted_test, axis = 1) + 1\n",
    "confusion_matrix_test = pd.crosstab(y_predicted_test, np.array(test_labels_set), rownames = ['y_predicted'], colnames = ['y_test'])\n",
    "print(confusion_matrix_test)"
   ]
  }
 ],
 "metadata": {
  "kernelspec": {
   "display_name": "Python 3",
   "language": "python",
   "name": "python3"
  },
  "language_info": {
   "codemirror_mode": {
    "name": "ipython",
    "version": 3
   },
   "file_extension": ".py",
   "mimetype": "text/x-python",
   "name": "python",
   "nbconvert_exporter": "python",
   "pygments_lexer": "ipython3",
   "version": "3.8.3"
  }
 },
 "nbformat": 4,
 "nbformat_minor": 4
}

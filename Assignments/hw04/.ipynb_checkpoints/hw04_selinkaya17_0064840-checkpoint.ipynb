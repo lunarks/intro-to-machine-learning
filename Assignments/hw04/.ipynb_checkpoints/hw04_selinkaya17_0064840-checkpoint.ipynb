{
 "cells": [
  {
   "cell_type": "code",
   "execution_count": 1,
   "metadata": {},
   "outputs": [],
   "source": [
    "import math\n",
    "import matplotlib.pyplot as plt\n",
    "import numpy as np\n",
    "import scipy.stats as stats\n",
    "import pandas as pd"
   ]
  },
  {
   "cell_type": "code",
   "execution_count": 2,
   "metadata": {},
   "outputs": [],
   "source": [
    "data_set = pd.read_csv(\"hw04_data_set.csv\").to_numpy()\n",
    "#print(data_set)"
   ]
  },
  {
   "cell_type": "code",
   "execution_count": 3,
   "metadata": {},
   "outputs": [],
   "source": [
    "def divide_data_set(data_set):\n",
    "    training_set = []\n",
    "    test_set = []\n",
    "    for i in range(133):\n",
    "        if i < 100:\n",
    "            training_set.append(data_set[i])\n",
    "        else:\n",
    "            test_set.append(data_set[i])\n",
    "    return training_set, test_set"
   ]
  },
  {
   "cell_type": "code",
   "execution_count": 4,
   "metadata": {
    "scrolled": true
   },
   "outputs": [],
   "source": [
    "training_set, test_set = divide_data_set(data_set)\n",
    "training_set = np.array(training_set)\n",
    "test_set = np.array(test_set)\n",
    "\n",
    "#print(str(training_set) + \"\\n\")\n",
    "#print(test_set)"
   ]
  },
  {
   "cell_type": "code",
   "execution_count": 5,
   "metadata": {},
   "outputs": [],
   "source": [
    "x_train = training_set[:, 0]\n",
    "y_train = training_set[:, 1]\n",
    "\n",
    "#print(x_train)\n",
    "#print(y_train)"
   ]
  },
  {
   "cell_type": "code",
   "execution_count": 6,
   "metadata": {},
   "outputs": [],
   "source": [
    "x_test = test_set[:, 0]\n",
    "y_test = test_set[:, 1]\n",
    "\n",
    "#print(x_test)\n",
    "#print(y_test)"
   ]
  },
  {
   "cell_type": "code",
   "execution_count": 7,
   "metadata": {},
   "outputs": [
    {
     "name": "stdout",
     "output_type": "stream",
     "text": [
      "75.0\n",
      "100\n",
      "33\n"
     ]
    }
   ],
   "source": [
    "# K and N\n",
    "K = np.max(y_train)\n",
    "N_train = training_set.shape[0]\n",
    "N_test = test_set.shape[0]\n",
    "\n",
    "print(K)\n",
    "print(N_train)\n",
    "print(N_test)"
   ]
  },
  {
   "cell_type": "code",
   "execution_count": 8,
   "metadata": {},
   "outputs": [],
   "source": [
    "point_colors = np.array([\"red\", \"green\", \"blue\"])\n",
    "minimum_value = 0\n",
    "maximum_value = 60\n",
    "data_interval = np.linspace(minimum_value, maximum_value, 6001)"
   ]
  },
  {
   "cell_type": "code",
   "execution_count": 9,
   "metadata": {
    "scrolled": false
   },
   "outputs": [
    {
     "name": "stdout",
     "output_type": "stream",
     "text": [
      "Regressogram p_hat_regressogram:\n",
      "[   0.           -1.35         -2.           -4.05         -6.67142857\n",
      "  -55.385      -103.32       -117.82        -50.65          6.7\n",
      "   38.86         23.4375       -7.35         -1.76666667    2.23333333\n",
      "   -2.           -6.65        -14.7          -2.7          10.7       ]\n"
     ]
    },
    {
     "data": {
      "image/png": "[encoded data removed]",
      "text/plain": [
       "<Figure size 720x432 with 1 Axes>"
      ]
     },
     "metadata": {
      "needs_background": "light"
     },
     "output_type": "display_data"
    }
   ],
   "source": [
    "# Regressogram\n",
    "bin_width = 3\n",
    "left_borders = np.arange(minimum_value, maximum_value, bin_width)\n",
    "right_borders = np.arange(minimum_value + bin_width, maximum_value + bin_width, bin_width)\n",
    "p_hat_regressogram = np.asarray([np.sum(((left_borders[b] < x_train) & (x_train <= right_borders[b])) * y_train) / np.sum((left_borders[b] < x_train) & (x_train <= right_borders[b])) for b in range(len(left_borders))])\n",
    "print(\"Regressogram p_hat_regressogram:\\n\" + str(p_hat_regressogram))\n",
    "\n",
    "plt.figure(figsize = (10, 6))\n",
    "plt.plot(x_train, y_train, \"b.\", markersize = 10)\n",
    "plt.plot(x_test, y_test, \"r.\", markersize = 10)\n",
    "for b in range(len(left_borders)):\n",
    "    plt.plot([left_borders[b], right_borders[b]], [p_hat_regressogram[b], p_hat_regressogram[b]], \"k-\")\n",
    "for b in range(len(left_borders) - 1):\n",
    "    plt.plot([right_borders[b], right_borders[b]], [p_hat_regressogram[b], p_hat_regressogram[b + 1]], \"k-\") \n",
    "plt.show()"
   ]
  },
  {
   "cell_type": "code",
   "execution_count": 10,
   "metadata": {},
   "outputs": [
    {
     "name": "stdout",
     "output_type": "stream",
     "text": [
      "[ 3.  8.  4.  5.  1.  6.  5.  7.  8.  3. 12.  0.  4.  5.  5.  9.  6.  2.\n",
      " 18. 11.  4. 12. 17. 14.  8. 10.  7.  2.  5.  6.  9.  2. 15.]\n",
      "y_hat_regressogram:\n",
      "[  -4.05        -50.65         -6.67142857  -55.385        -1.35\n",
      " -103.32        -55.385      -117.82        -50.65         -4.05\n",
      "   -7.35          0.           -6.67142857  -55.385       -55.385\n",
      "    6.7        -103.32         -2.           -2.7          23.4375\n",
      "   -6.67142857   -7.35        -14.7           2.23333333  -50.65\n",
      "   38.86       -117.82         -2.          -55.385      -103.32\n",
      "    6.7          -2.           -2.        ]\n"
     ]
    }
   ],
   "source": [
    "indices_regressogram = np.array(np.floor(x_test / bin_width))\n",
    "print(indices_regressogram)\n",
    "\n",
    "\n",
    "# y_hat_regressogram\n",
    "y_hat_regressogram = []\n",
    "\n",
    "for i in range(len(indices_regressogram)):\n",
    "    j = int(indices_regressogram[i])\n",
    "    y_hat_regressogram.append(p_hat_regressogram[j])\n",
    "\n",
    "y_hat_regressogram = np.array(y_hat_regressogram)\n",
    "print(\"y_hat_regressogram:\\n\" + str(y_hat_regressogram))"
   ]
  },
  {
   "cell_type": "code",
   "execution_count": 11,
   "metadata": {},
   "outputs": [
    {
     "name": "stdout",
     "output_type": "stream",
     "text": [
      "Regressogram => RMSE is 24.725997719599924 when h is 3\n"
     ]
    }
   ],
   "source": [
    "def rsme(N_test, y_test, y_hat):\n",
    "    return np.sqrt(np.sum((y_test - y_hat) ** 2) / N_test)\n",
    "\n",
    "print(\"Regressogram => RMSE is \" + str(rsme(N_test, y_test, y_hat_regressogram)) + \" when h is 3\")"
   ]
  },
  {
   "cell_type": "code",
   "execution_count": 12,
   "metadata": {},
   "outputs": [
    {
     "name": "stderr",
     "output_type": "stream",
     "text": [
      "<ipython-input-12-7a37e91db659>:6: RuntimeWarning: invalid value encountered in double_scalars\n",
      "  p_hat_rms = np.asarray([np.sum(w((x - x_train) / bin_width_rms) * y_train) /\n"
     ]
    },
    {
     "name": "stdout",
     "output_type": "stream",
     "text": [
      "Running Mean Smoother p_hat:\n",
      "[nan nan nan ... nan nan nan]\n"
     ]
    },
    {
     "data": {
      "image/png": "[encoded data removed]",
      "text/plain": [
       "<Figure size 720x432 with 1 Axes>"
      ]
     },
     "metadata": {
      "needs_background": "light"
     },
     "output_type": "display_data"
    }
   ],
   "source": [
    "# Running Mean Smoother\n",
    "def w(u):\n",
    "    return np.abs(u) < 0.5\n",
    "\n",
    "bin_width_rms = 3\n",
    "p_hat_rms = np.asarray([np.sum(w((x - x_train) / bin_width_rms) * y_train) / \n",
    "                    np.sum(w((x - x_train) / bin_width_rms)) for x in data_interval])\n",
    "print(\"Running Mean Smoother p_hat:\\n\" + str(p_hat_rms))\n",
    "\n",
    "plt.figure(figsize = (10, 6))\n",
    "plt.plot(x_train, y_train, \"b.\", markersize = 10)\n",
    "plt.plot(x_test, y_test, \"r.\", markersize = 10)\n",
    "plt.plot(data_interval, p_hat_rms, \"k-\")\n",
    "plt.show()"
   ]
  },
  {
   "cell_type": "code",
   "execution_count": 13,
   "metadata": {},
   "outputs": [
    {
     "name": "stdout",
     "output_type": "stream",
     "text": [
      "[1140. 2620. 1460. 1780.  400. 1860. 1680. 2120. 2540. 1060. 3800.  260.\n",
      " 1460. 1620. 1640. 2720. 2040.  620. 5500. 3340. 1460. 3800. 5200. 4240.\n",
      " 2460. 3100. 2180.  880. 1560. 1960. 2840.  820. 4780.]\n",
      "y_hat:\n",
      "[  -4.5         -32.88181818  -24.5125      -83.14545455   -1.35\n",
      "  -94.          -55.385      -116.03333333  -60.3          -4.05\n",
      "    2.05         -0.9         -24.5125      -50.3         -55.385\n",
      "   -4.42       -101.2          -2.           -2.7          45.31666667\n",
      "  -24.5125        2.05         -7.35          4.82        -76.75\n",
      "   36.85       -116.03333333   -2.96        -36.65789474 -103.32\n",
      "    3.8625       -2.           -5.76666667]\n"
     ]
    }
   ],
   "source": [
    "indices_rms = np.array(np.round(x_test * 100))\n",
    "print(indices_rms)\n",
    "\n",
    "\n",
    "# y_hat\n",
    "y_hat_rms = []\n",
    "\n",
    "for i in range(len(indices_rms)):\n",
    "    j = int(indices_rms[i])\n",
    "    y_hat_rms.append(p_hat_rms[j])\n",
    "\n",
    "y_hat_rms = np.array(y_hat_rms)\n",
    "print(\"y_hat:\\n\" + str(y_hat_rms))"
   ]
  },
  {
   "cell_type": "code",
   "execution_count": 14,
   "metadata": {},
   "outputs": [
    {
     "name": "stdout",
     "output_type": "stream",
     "text": [
      "Running Mean Smoother => RMSE is 23.840322905172517 when h is 3\n"
     ]
    }
   ],
   "source": [
    "print(\"Running Mean Smoother => RMSE is \" + str(rsme(N_test, y_test, y_hat_rms)) + \" when h is 3\")"
   ]
  },
  {
   "cell_type": "code",
   "execution_count": 15,
   "metadata": {},
   "outputs": [
    {
     "name": "stdout",
     "output_type": "stream",
     "text": [
      "Running Mean Smoother p_hat_ks:\n",
      "[-0.25352133 -0.25529083 -0.2570705  ... 10.692726   10.69288785\n",
      " 10.69304609]\n"
     ]
    },
    {
     "data": {
      "image/png": "[encoded data removed]",
      "text/plain": [
       "<Figure size 720x432 with 1 Axes>"
      ]
     },
     "metadata": {
      "needs_background": "light"
     },
     "output_type": "display_data"
    }
   ],
   "source": [
    "# Kernel Smoother\n",
    "def K(u):\n",
    "    return 1 / np.sqrt(2 * math.pi) * np.exp(-0.5 * u**2)\n",
    "\n",
    "bin_width = 1\n",
    "p_hat_ks = np.asarray([np.sum(K((x - x_train) / bin_width) * y_train) / np.sum(K((x - x_train) / bin_width)) for x in data_interval])\n",
    "print(\"Running Mean Smoother p_hat_ks:\\n\" + str(p_hat_ks))\n",
    "\n",
    "plt.figure(figsize = (10, 6))\n",
    "plt.plot(x_train, y_train, \"b.\", markersize = 10)\n",
    "plt.plot(x_test, y_test, \"r.\", markersize = 10)\n",
    "plt.plot(data_interval, p_hat_ks, \"k-\")\n",
    "plt.show()"
   ]
  },
  {
   "cell_type": "code",
   "execution_count": 16,
   "metadata": {},
   "outputs": [
    {
     "name": "stdout",
     "output_type": "stream",
     "text": [
      "[1140. 2620. 1460. 1780.  400. 1860. 1680. 2120. 2540. 1060. 3800.  260.\n",
      " 1460. 1620. 1640. 2720. 2040.  620. 5500. 3340. 1460. 3800. 5200. 4240.\n",
      " 2460. 3100. 2180.  880. 1560. 1960. 2840.  820. 4780.]\n",
      "y_hat:\n",
      "[  -4.31598898  -33.9047282   -24.85706613  -79.1357464    -1.04963844\n",
      "  -92.41841684  -56.92899644 -110.57893473  -52.38244043   -4.02126966\n",
      "    0.4746467    -0.93141211  -24.85706613  -45.78188696  -49.15953933\n",
      "  -13.1393819  -104.63541765   -2.08222097   -3.59014777   34.80623531\n",
      "  -24.85706613    0.4746467    -8.24496628    2.92533397  -74.20344573\n",
      "   30.07285382 -114.08958113   -2.60420375  -37.30239381 -100.0048593\n",
      "    9.49013663   -2.29368028   -8.11827624]\n"
     ]
    }
   ],
   "source": [
    "indices_ks = np.array(np.round(x_test * 100))\n",
    "print(indices_ks)\n",
    "\n",
    "\n",
    "# y_hat\n",
    "y_hat_ks = []\n",
    "\n",
    "for i in range(len(indices_ks)):\n",
    "    j = int(indices_ks[i])\n",
    "    y_hat_ks.append(p_hat_ks[j])\n",
    "\n",
    "y_hat_ks = np.array(y_hat_ks)\n",
    "print(\"y_hat:\\n\" + str(y_hat_ks))"
   ]
  },
  {
   "cell_type": "code",
   "execution_count": 17,
   "metadata": {},
   "outputs": [
    {
     "name": "stdout",
     "output_type": "stream",
     "text": [
      "Kernel Smoother => RMSE is 24.167246266469395 when h is 1\n"
     ]
    }
   ],
   "source": [
    "print(\"Kernel Smoother => RMSE is \" + str(rsme(N_test, y_test, y_hat_ks)) + \" when h is 1\")"
   ]
  }
 ],
 "metadata": {
  "kernelspec": {
   "display_name": "Python 3",
   "language": "python",
   "name": "python3"
  },
  "language_info": {
   "codemirror_mode": {
    "name": "ipython",
    "version": 3
   },
   "file_extension": ".py",
   "mimetype": "text/x-python",
   "name": "python",
   "nbconvert_exporter": "python",
   "pygments_lexer": "ipython3",
   "version": "3.8.3"
  }
 },
 "nbformat": 4,
 "nbformat_minor": 4
}
